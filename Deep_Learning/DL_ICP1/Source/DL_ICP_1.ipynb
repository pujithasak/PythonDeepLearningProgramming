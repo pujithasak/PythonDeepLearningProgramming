{
 "cells": [
  {
   "cell_type": "code",
   "execution_count": 8,
   "metadata": {},
   "outputs": [
    {
     "name": "stdout",
     "output_type": "stream",
     "text": [
      "Model: \"sequential_2\"\n",
      "_________________________________________________________________\n",
      "Layer (type)                 Output Shape              Param #   \n",
      "=================================================================\n",
      "dense_4 (Dense)              (None, 20)                180       \n",
      "_________________________________________________________________\n",
      "dense_5 (Dense)              (None, 60)                1260      \n",
      "_________________________________________________________________\n",
      "dense_6 (Dense)              (None, 1)                 61        \n",
      "=================================================================\n",
      "Total params: 1,501\n",
      "Trainable params: 1,501\n",
      "Non-trainable params: 0\n",
      "_________________________________________________________________\n",
      "None\n",
      "192/192 [==============================] - 0s 171us/step\n",
      "[0.569439560174942, 0.7239583134651184]\n"
     ]
    }
   ],
   "source": [
    "import pandas\n",
    "from keras.models import Sequential\n",
    "from keras.layers.core import Dense, Activation\n",
    "\n",
    "# load dataset\n",
    "from sklearn.model_selection import train_test_split\n",
    "import pandas as pd\n",
    "import numpy as np\n",
    "\n",
    "dataset = pd.read_csv(\"diabetes.csv\", header=None).values\n",
    "\n",
    "X_train, X_test, Y_train, Y_test = train_test_split(dataset[:,0:8], dataset[:,8],\n",
    "                                                    test_size=0.25, random_state=87)\n",
    "np.random.seed(155)\n",
    "my_first_nn = Sequential() # create model\n",
    "my_first_nn.add(Dense(20, input_dim=8, activation='relu')) # hidden layer\n",
    "my_first_nn.add(Dense(60)) # hidden layer\n",
    "my_first_nn.add(Dense(1, activation='sigmoid')) # output layer\n",
    "my_first_nn.compile(loss='binary_crossentropy', optimizer='adam', metrics=['acc'])\n",
    "my_first_nn_fitted = my_first_nn.fit(X_train, Y_train, epochs=100, verbose = 0,\n",
    "                                     initial_epoch=0)\n",
    "print(my_first_nn.summary())\n",
    "print(my_first_nn.evaluate(X_test, Y_test))"
   ]
  },
  {
   "cell_type": "code",
   "execution_count": 10,
   "metadata": {},
   "outputs": [
    {
     "name": "stdout",
     "output_type": "stream",
     "text": [
      "Model: \"sequential_4\"\n",
      "_________________________________________________________________\n",
      "Layer (type)                 Output Shape              Param #   \n",
      "=================================================================\n",
      "dense_10 (Dense)             (None, 20)                600       \n",
      "_________________________________________________________________\n",
      "dense_11 (Dense)             (None, 25)                525       \n",
      "_________________________________________________________________\n",
      "dense_12 (Dense)             (None, 1)                 26        \n",
      "=================================================================\n",
      "Total params: 1,151\n",
      "Trainable params: 1,151\n",
      "Non-trainable params: 0\n",
      "_________________________________________________________________\n",
      "None\n",
      "228/228 [==============================] - 0s 184us/step\n",
      "[5.867552338984975, 0.6359649300575256]\n"
     ]
    }
   ],
   "source": [
    "dataset1 = pd.read_csv('breastcancer.csv')\n",
    "X=dataset1.iloc[:,2:31].values\n",
    "Y=dataset1.iloc[:,1].values\n",
    "from sklearn.preprocessing import LabelEncoder\n",
    "labelencoder_Y = LabelEncoder()\n",
    "Y= labelencoder_Y.fit_transform(Y)\n",
    "X_train1, X_test1, Y_train1, Y_test1 = train_test_split(X,Y,test_size=0.4, random_state=0)\n",
    "my_first_nn1 = Sequential() # create model\n",
    "my_first_nn1.add(Dense(20, input_dim=29, activation='relu')) # hidden layer\n",
    "my_first_nn1.add(Dense(25)) # hidden layer\n",
    "my_first_nn1.add(Dense(1, activation='sigmoid')) # output layer\n",
    "my_first_nn1.compile(loss='binary_crossentropy', optimizer='adam', metrics=['acc'])\n",
    "my_first_nn_fitted1 = my_first_nn1.fit(X_train1, Y_train1, epochs=100,verbose = 0,initial_epoch=0)\n",
    "print(my_first_nn1.summary())\n",
    "print(my_first_nn1.evaluate(X_test1, Y_test1))"
   ]
  },
  {
   "cell_type": "code",
   "execution_count": 12,
   "metadata": {},
   "outputs": [
    {
     "name": "stdout",
     "output_type": "stream",
     "text": [
      "Model: \"sequential_6\"\n",
      "_________________________________________________________________\n",
      "Layer (type)                 Output Shape              Param #   \n",
      "=================================================================\n",
      "dense_16 (Dense)             (None, 20)                600       \n",
      "_________________________________________________________________\n",
      "dense_17 (Dense)             (None, 25)                525       \n",
      "_________________________________________________________________\n",
      "dense_18 (Dense)             (None, 1)                 26        \n",
      "=================================================================\n",
      "Total params: 1,151\n",
      "Trainable params: 1,151\n",
      "Non-trainable params: 0\n",
      "_________________________________________________________________\n",
      "None\n",
      "228/228 [==============================] - 0s 241us/step\n",
      "[0.17029874591032257, 0.9649122953414917]\n"
     ]
    }
   ],
   "source": [
    "from sklearn.preprocessing import StandardScaler\n",
    "sc = StandardScaler()\n",
    "dataset1 = pd.read_csv('breastcancer.csv')\n",
    "X=dataset1.iloc[:,2:31].values\n",
    "Y=dataset1.iloc[:,1].values\n",
    "labelencoder_Y = LabelEncoder()\n",
    "Y= labelencoder_Y.fit_transform(Y)\n",
    "X_train1, X_test1, Y_train1, Y_test1 = train_test_split(X,Y,test_size=0.4, random_state=0)\n",
    "my_first_nn1 = Sequential() # create model\n",
    "my_first_nn1.add(Dense(20, input_dim=29, activation='relu')) # hidden layer\n",
    "my_first_nn1.add(Dense(25)) # hidden layer\n",
    "my_first_nn1.add(Dense(1, activation='sigmoid')) # output layer\n",
    "my_first_nn1.compile(loss='binary_crossentropy', optimizer='adam', metrics=['acc'])\n",
    "X_train1 = sc.fit_transform(X_train1)\n",
    "X_test1 = sc.transform(X_test1)\n",
    "\n",
    "my_first_nn_fitted1 = my_first_nn1.fit(X_train1, Y_train1, epochs=100,verbose = 0,initial_epoch=0)\n",
    "print(my_first_nn1.summary())\n",
    "print(my_first_nn1.evaluate(X_test1, Y_test1))"
   ]
  }
 ],
 "metadata": {
  "kernelspec": {
   "display_name": "Python 3",
   "language": "python",
   "name": "python3"
  },
  "language_info": {
   "codemirror_mode": {
    "name": "ipython",
    "version": 3
   },
   "file_extension": ".py",
   "mimetype": "text/x-python",
   "name": "python",
   "nbconvert_exporter": "python",
   "pygments_lexer": "ipython3",
   "version": "3.7.6"
  }
 },
 "nbformat": 4,
 "nbformat_minor": 4
}
