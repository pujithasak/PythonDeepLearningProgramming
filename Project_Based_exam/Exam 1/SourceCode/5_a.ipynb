{
 "cells": [
  {
   "cell_type": "code",
   "execution_count": null,
   "metadata": {},
   "outputs": [],
   "source": [
    "\"\"\"\n",
    "\n",
    "Pick any dataset online for the classification problem which includes both numeric and non-numeric features\n",
    " a.Perform exploratory data analysis on the data set (it can be anything on your choice that gives insight about the dataset)\n",
    "\n",
    "\"\"\"\n",
    "\n",
    "import numpy as np\n",
    "import pandas as pd\n",
    "import matplotlib.pyplot as plt\n",
    "import seaborn as sns\n",
    "\n",
    "wine_data = pd.read_csv('C:/Users/anish/PycharmProjects/PythonCourse/PythonProject/wine_dataset.csv')\n",
    "\n",
    "# display the dataset info\n",
    "wine_data.info()\n",
    "# show data types for each column\n",
    "print(\"\\n Data types:\", wine_data.dtypes, \"\\n\")\n",
    "\n",
    "# Total number of rows and columns\n",
    "print(\"Number of rows and columns:\", wine_data.shape , \"\\n\")\n",
    "\n",
    "x = wine_data['Alcohol']\n",
    "y = wine_data['Wine Type']\n",
    "\n",
    "# Generating scatter plot\n",
    "plt.scatter(x, y, alpha=.75, color='b')\n",
    "plt.title(\"Scatter Plot between Wine Type and Alcohol fields\")\n",
    "plt.xlabel(\"Alcohol\")\n",
    "plt.ylabel(\"Wine type\")\n",
    "plt.show()"
   ]
  }
 ],
 "metadata": {
  "kernelspec": {
   "display_name": "Python 3",
   "language": "python",
   "name": "python3"
  },
  "language_info": {
   "codemirror_mode": {
    "name": "ipython",
    "version": 3
   },
   "file_extension": ".py",
   "mimetype": "text/x-python",
   "name": "python",
   "nbconvert_exporter": "python",
   "pygments_lexer": "ipython3",
   "version": "3.7.6"
  }
 },
 "nbformat": 4,
 "nbformat_minor": 4
}
