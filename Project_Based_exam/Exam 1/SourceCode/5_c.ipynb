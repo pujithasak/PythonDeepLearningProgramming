{
 "cells": [
  {
   "cell_type": "code",
   "execution_count": null,
   "metadata": {},
   "outputs": [],
   "source": [
    "\"\"\"\n",
    "\n",
    "Try  SVM  with  linear  and  non-linear  kernel  and  report  which  one  gives  better performance\n",
    "\n",
    "\"\"\"\n",
    "\n",
    "# importing libraries to python\n",
    "from sklearn import model_selection\n",
    "from sklearn.svm import SVC\n",
    "from sklearn import metrics\n",
    "import pandas as pd\n",
    "\n",
    "# Reading the csv file data using pandas library\n",
    "wine_data = pd.read_csv('C:/Users/anish/PycharmProjects/PythonCourse/PythonProject/wine_dataset.csv')\n",
    "\n",
    "# Check the null values\n",
    "nulls = pd.DataFrame(wine_data.isnull().sum().sort_values(ascending=False))\n",
    "nulls.columns = ['Null Count']\n",
    "nulls.index.name = 'Feature'\n",
    "\n",
    "# Remove the null values\n",
    "new_data = wine_data.dropna()\n",
    "\n",
    "# preprocessing the data\n",
    "x = new_data.drop('Wine Type', axis=1)\n",
    "y = new_data['Wine Type']\n",
    "\n",
    "# splitting data into training data and testing data\n",
    "X_train, X_test, Y_train, Y_test = model_selection.train_test_split(x, y, test_size=0.2, random_state=0)\n",
    "\n",
    "# creating and training the linear SVM classifier from sklearn library\n",
    "svc = SVC(kernel='linear')\n",
    "# Predicting the data\n",
    "Y_pred = svc.fit(X_train, Y_train).predict(X_test)\n",
    "\n",
    "# Display the Score\n",
    "print(\"\\n Linear SVM Accuracy Score:\", metrics.accuracy_score(Y_test, Y_pred), \"\\n\")\n",
    "print(\"\\n Classification Report: \\n\", metrics.classification_report(Y_test, Y_pred))\n",
    "\n",
    "\n",
    "# creating and training the non linear SVM classifier from sklearn library\n",
    "svc = SVC(kernel='rbf')\n",
    "# Predicting the data\n",
    "Y_pred = svc.fit(X_train, Y_train).predict(X_test)\n",
    "\n",
    "# Display the Score\n",
    "print(\"\\n Non Linear SVM Accuracy Score:\", metrics.accuracy_score(Y_test, Y_pred), \"\\n\")\n",
    "print(\"\\n Classification Report: \\n\", metrics.classification_report(Y_test, Y_pred))\n",
    "\n"
   ]
  }
 ],
 "metadata": {
  "kernelspec": {
   "display_name": "Python 3",
   "language": "python",
   "name": "python3"
  },
  "language_info": {
   "codemirror_mode": {
    "name": "ipython",
    "version": 3
   },
   "file_extension": ".py",
   "mimetype": "text/x-python",
   "name": "python",
   "nbconvert_exporter": "python",
   "pygments_lexer": "ipython3",
   "version": "3.7.6"
  }
 },
 "nbformat": 4,
 "nbformat_minor": 4
}
