{
 "cells": [
  {
   "cell_type": "code",
   "execution_count": 9,
   "metadata": {},
   "outputs": [
    {
     "name": "stdout",
     "output_type": "stream",
     "text": [
      "GaussianNB Accuracy Score is :99.32%\n",
      "              precision    recall  f1-score   support\n",
      "\n",
      "           0       1.00      0.99      1.00    113724\n",
      "           1       0.15      0.63      0.25       199\n",
      "\n",
      "    accuracy                           0.99    113923\n",
      "   macro avg       0.58      0.81      0.62    113923\n",
      "weighted avg       1.00      0.99      1.00    113923\n",
      "\n",
      "KNN Accuracy Socre is :99.83%\n"
     ]
    },
    {
     "data": {
      "text/plain": [
       "<matplotlib.axes._subplots.AxesSubplot at 0x297028b7c88>"
      ]
     },
     "execution_count": 9,
     "metadata": {},
     "output_type": "execute_result"
    },
    {
     "data": {
      "image/png": "[encoded data removed]",
      "text/plain": [
       "<Figure size 432x288 with 1 Axes>"
      ]
     },
     "metadata": {
      "needs_background": "light"
     },
     "output_type": "display_data"
    }
   ],
   "source": [
    "# Importing required libraries\n",
    "from sklearn.model_selection import train_test_split\n",
    "from sklearn.naive_bayes import GaussianNB\n",
    "from sklearn.metrics import accuracy_score\n",
    "from sklearn.metrics import classification_report\n",
    "from sklearn.neighbors import KNeighborsClassifier\n",
    "import pandas as pd\n",
    "\n",
    "# loading dataset\n",
    "df = pd.read_csv('./creditcard.csv')\n",
    "x = df.drop(\"Class\", axis=1)\n",
    "y = df[\"Class\"]\n",
    "x, xtest, y, ytest = train_test_split(x, y, test_size=0.4, random_state=0)\n",
    "\n",
    "#Applying implement Naive Bayes algorithm\n",
    "gnb_model = GaussianNB()\n",
    "gnb_model.fit(x, y)\n",
    "y_predict = gnb_model.predict(xtest)\n",
    "acc_score = accuracy_score(ytest, y_predict) * 100\n",
    "print(\"GaussianNB Accuracy Score is :%.2f%%\" % (acc_score))\n",
    "\n",
    "print(classification_report(ytest, y_predict))\n",
    "\n",
    "#Applying KNN Model  \n",
    "knn_model = KNeighborsClassifier(n_neighbors = 5)\n",
    "knn_model.fit(x, y)\n",
    "knn_score = knn_model.score(xtest, ytest) * 100\n",
    "print(\"KNN Accuracy Socre is :%.2f%%\" % (knn_score))\n",
    "\n",
    "# visualization\n",
    "df[\"Class\"].value_counts().plot(kind='line')"
   ]
  },
  {
   "cell_type": "code",
   "execution_count": null,
   "metadata": {},
   "outputs": [],
   "source": []
  }
 ],
 "metadata": {
  "kernelspec": {
   "display_name": "Python 3",
   "language": "python",
   "name": "python3"
  },
  "language_info": {
   "codemirror_mode": {
    "name": "ipython",
    "version": 3
   },
   "file_extension": ".py",
   "mimetype": "text/x-python",
   "name": "python",
   "nbconvert_exporter": "python",
   "pygments_lexer": "ipython3",
   "version": "3.7.6"
  }
 },
 "nbformat": 4,
 "nbformat_minor": 4
}
