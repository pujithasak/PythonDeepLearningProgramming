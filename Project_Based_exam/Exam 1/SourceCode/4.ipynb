{
 "cells": [
  {
   "cell_type": "code",
   "execution_count": 1,
   "metadata": {
    "scrolled": true
   },
   "outputs": [
    {
     "name": "stdout",
     "output_type": "stream",
     "text": [
      "showing info https://raw.githubusercontent.com/nltk/nltk_data/gh-pages/index.xml\n"
     ]
    },
    {
     "name": "stderr",
     "output_type": "stream",
     "text": [
      "[nltk_data] Downloading package averaged_perceptron_tagger to\n",
      "[nltk_data]     C:\\Users\\Tejaswi\\AppData\\Roaming\\nltk_data...\n",
      "[nltk_data]   Package averaged_perceptron_tagger is already up-to-\n",
      "[nltk_data]       date!\n",
      "[nltk_data] Downloading package maxent_ne_chunker to\n",
      "[nltk_data]     C:\\Users\\Tejaswi\\AppData\\Roaming\\nltk_data...\n",
      "[nltk_data]   Package maxent_ne_chunker is already up-to-date!\n",
      "[nltk_data] Downloading package words to\n",
      "[nltk_data]     C:\\Users\\Tejaswi\\AppData\\Roaming\\nltk_data...\n",
      "[nltk_data]   Package words is already up-to-date!\n"
     ]
    },
    {
     "data": {
      "text/plain": [
       "True"
      ]
     },
     "execution_count": 1,
     "metadata": {},
     "output_type": "execute_result"
    }
   ],
   "source": [
    "import nltk\n",
    "import pandas as pd\n",
    "from bs4 import BeautifulSoup\n",
    "import string\n",
    "from nltk import word_tokenize\n",
    "from nltk import sent_tokenize\n",
    "from nltk.stem import PorterStemmer\n",
    "from nltk.stem import WordNetLemmatizer\n",
    "from nltk.corpus import stopwords\n",
    "from nltk.tokenize import RegexpTokenizer\n",
    "\n",
    "\n",
    "\n",
    "nltk.download()\n",
    "nltk.download('averaged_perceptron_tagger')\n",
    "nltk.download('maxent_ne_chunker')\n",
    "nltk.download('words')\n"
   ]
  },
  {
   "cell_type": "code",
   "execution_count": 2,
   "metadata": {},
   "outputs": [
    {
     "data": {
      "text/plain": [
       "(5572, 5)"
      ]
     },
     "execution_count": 2,
     "metadata": {},
     "output_type": "execute_result"
    }
   ],
   "source": [
    "# Reading the csv file and creating DataFrame\n",
    "df = pd.read_csv('C:/Users/Tejaswi/Desktop/Python/spam.csv', engine = 'python')\n",
    "df.shape"
   ]
  },
  {
   "cell_type": "code",
   "execution_count": 3,
   "metadata": {},
   "outputs": [],
   "source": [
    "# Splitting the Dataset\n",
    "x = df['Text']\n",
    "y = df['Class']\n"
   ]
  },
  {
   "cell_type": "code",
   "execution_count": 4,
   "metadata": {},
   "outputs": [
    {
     "name": "stdout",
     "output_type": "stream",
     "text": [
      "0       [Go until jurong point, crazy.., Available onl...\n",
      "1                        [Ok lar..., Joking wif u oni...]\n",
      "2       [Free entry in 2 a wkly comp to win FA Cup fin...\n",
      "3       [U dun say so early hor... U c already then sa...\n",
      "4       [Nah I don't think he goes to usf, he lives ar...\n",
      "                              ...                        \n",
      "5567    [This is the 2nd time we have tried 2 contact ...\n",
      "5568              [Will Ì_ b going to esplanade fr home?]\n",
      "5569    [Pity, * was in mood for that., So...any other...\n",
      "5570    [The guy did some bitching but I acted like i'...\n",
      "5571                        [Rofl., Its true to its name]\n",
      "Name: Text, Length: 5572, dtype: object\n"
     ]
    }
   ],
   "source": [
    "# Sentence Tokenisation (just for demonstration)\n",
    "sentences = x.apply(nltk.sent_tokenize)\n",
    "print(sentences)"
   ]
  },
  {
   "cell_type": "code",
   "execution_count": 5,
   "metadata": {},
   "outputs": [
    {
     "name": "stdout",
     "output_type": "stream",
     "text": [
      "0       [go, until, jurong, point, crazy, available, o...\n",
      "1                          [ok, lar, joking, wif, u, oni]\n",
      "2       [free, entry, in, 2, a, wkly, comp, to, win, f...\n",
      "3       [u, dun, say, so, early, hor, u, c, already, t...\n",
      "4       [nah, i, don, t, think, he, goes, to, usf, he,...\n",
      "                              ...                        \n",
      "5567    [this, is, the, 2nd, time, we, have, tried, 2,...\n",
      "5568        [will, ì_, b, going, to, esplanade, fr, home]\n",
      "5569    [pity, was, in, mood, for, that, so, any, othe...\n",
      "5570    [the, guy, did, some, bitching, but, i, acted,...\n",
      "5571                     [rofl, its, true, to, its, name]\n",
      "Name: Text, Length: 5572, dtype: object\n"
     ]
    }
   ],
   "source": [
    "# Word Toenisation using Regular Expressions\n",
    "# Removes punctuations and converts text to lower case\n",
    "tokenizer = RegexpTokenizer(r'\\w+')\n",
    "tokens = x.apply(lambda z: tokenizer.tokenize(z.lower()))\n",
    "print(tokens)\n"
   ]
  },
  {
   "cell_type": "code",
   "execution_count": 6,
   "metadata": {},
   "outputs": [
    {
     "name": "stdout",
     "output_type": "stream",
     "text": [
      "0       [go, jurong, point, crazy, available, bugis, n...\n",
      "1                          [ok, lar, joking, wif, u, oni]\n",
      "2       [free, entry, 2, wkly, comp, win, fa, cup, fin...\n",
      "3           [u, dun, say, early, hor, u, c, already, say]\n",
      "4          [nah, think, goes, usf, lives, around, though]\n",
      "                              ...                        \n",
      "5567    [2nd, time, tried, 2, contact, u, u, å, 750, p...\n",
      "5568                  [ì_, b, going, esplanade, fr, home]\n",
      "5569                            [pity, mood, suggestions]\n",
      "5570    [guy, bitching, acted, like, interested, buyin...\n",
      "5571                                   [rofl, true, name]\n",
      "Name: Text, Length: 5572, dtype: object\n"
     ]
    }
   ],
   "source": [
    "# Removes Stop-words from the Data\n",
    "stop_words = stopwords.words('english')\n",
    "words = tokens.apply(lambda z: [item for item in z if item not in stop_words])\n",
    "print(words)"
   ]
  },
  {
   "cell_type": "code",
   "execution_count": 7,
   "metadata": {},
   "outputs": [
    {
     "name": "stdout",
     "output_type": "stream",
     "text": [
      "0       go jurong point crazy available bugis n great ...\n",
      "1                                 ok lar joking wif u oni\n",
      "2       free entry 2 wkly comp win fa cup final tkts 2...\n",
      "3                     u dun say early hor u c already say\n",
      "4                     nah think go usf life around though\n",
      "                              ...                        \n",
      "5567    2nd time tried 2 contact u u å 750 pound prize...\n",
      "5568                         ì_ b going esplanade fr home\n",
      "5569                                 pity mood suggestion\n",
      "5570    guy bitching acted like interested buying some...\n",
      "5571                                       rofl true name\n",
      "Name: Text, Length: 5572, dtype: object\n"
     ]
    }
   ],
   "source": [
    "# Lemmetizing the Data\n",
    "# Using \"\".join() to the function to join the list of words back together\n",
    "lemmatizer = WordNetLemmatizer()\n",
    "def word_lemmatizer(txt):\n",
    "    lem_txt = \" \".join([lemmatizer.lemmatize(i) for i in txt])\n",
    "    return lem_txt\n",
    "\n",
    "cleaned_data = words.apply(lambda z: word_lemmatizer(z))\n",
    "print(cleaned_data)\n"
   ]
  },
  {
   "cell_type": "code",
   "execution_count": 8,
   "metadata": {},
   "outputs": [],
   "source": [
    "from sklearn.naive_bayes import MultinomialNB\n",
    "from sklearn.feature_extraction.text import TfidfVectorizer\n",
    "from sklearn.feature_extraction.text import CountVectorizer\n",
    "from sklearn.model_selection import train_test_split\n",
    "from sklearn import metrics\n",
    "from sklearn.metrics import accuracy_score"
   ]
  },
  {
   "cell_type": "code",
   "execution_count": 9,
   "metadata": {},
   "outputs": [],
   "source": [
    "# Split cleaned_data and y into training and testing sets\n",
    "# It splits 70% training and 30% test\n",
    "\n",
    "X_train,X_test,y_train,y_test=train_test_split(cleaned_data,y,test_size=0.3)\n"
   ]
  },
  {
   "cell_type": "code",
   "execution_count": 10,
   "metadata": {},
   "outputs": [],
   "source": [
    "# Instantiate the COUNT Vectorizer\n",
    "vect = CountVectorizer()\n",
    "\n",
    "# combine fit and transform of X_train and X-test data\n",
    "X_train_count = vect.fit_transform(X_train)\n",
    "X_test_count = vect.transform(X_test)\n",
    "\n",
    "# instantiate a Multinomial Naive Bayes model and train the model \n",
    "nb = MultinomialNB()\n",
    "nb.fit(X_train_count, y_train)\n",
    "\n",
    "# make class predictions for X_test_count and calculate accuracy of class predictions\n",
    "y_pred_class = nb.predict(X_test_count)\n",
    "score_count = metrics.accuracy_score(y_test, y_pred_class)"
   ]
  },
  {
   "cell_type": "code",
   "execution_count": 11,
   "metadata": {},
   "outputs": [],
   "source": [
    "# Instantiate the TFDIF Vectorizer\n",
    "vect = TfidfVectorizer()\n",
    "\n",
    "# Combine fit and transform of X_train and X-test data\n",
    "X_train_tfdif = vect.fit_transform(X_train)\n",
    "X_test_tfdif = vect.transform(X_test)\n",
    "\n",
    "# instantiate a Multinomial Naive Bayes model and train the model\n",
    "nb = MultinomialNB()\n",
    "nb.fit(X_train_tfdif, y_train)\n",
    "\n",
    "# make class predictions for X_test_count and calculate accuracy of class predictions\n",
    "y_pred_class = nb.predict(X_test_tfdif)\n",
    "score_tfidf = metrics.accuracy_score(y_test, y_pred_class)\n"
   ]
  },
  {
   "cell_type": "code",
   "execution_count": 12,
   "metadata": {},
   "outputs": [
    {
     "name": "stdout",
     "output_type": "stream",
     "text": [
      "Accuracy Score for Count Vectorizer: 0.9856459330143541\n",
      "Accuracy Score for Tfidf Vectorizer: 0.9665071770334929\n"
     ]
    }
   ],
   "source": [
    "print(\"Accuracy Score for Count Vectorizer:\", score_count)\n",
    "print(\"Accuracy Score for Tfidf Vectorizer:\", score_tfidf)"
   ]
  }
 ],
 "metadata": {
  "kernelspec": {
   "display_name": "Python 3",
   "language": "python",
   "name": "python3"
  },
  "language_info": {
   "codemirror_mode": {
    "name": "ipython",
    "version": 3
   },
   "file_extension": ".py",
   "mimetype": "text/x-python",
   "name": "python",
   "nbconvert_exporter": "python",
   "pygments_lexer": "ipython3",
   "version": "3.7.6"
  }
 },
 "nbformat": 4,
 "nbformat_minor": 4
}
