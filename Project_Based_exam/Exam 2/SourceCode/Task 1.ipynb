{
 "cells": [
  {
   "cell_type": "code",
   "execution_count": 38,
   "metadata": {},
   "outputs": [],
   "source": [
    "import pandas as pd\n",
    "from keras.preprocessing.text import Tokenizer\n",
    "from keras.preprocessing.sequence import pad_sequences\n",
    "from keras.models import Sequential\n",
    "from keras.layers import Dense, Embedding, LSTM, SpatialDropout1D, Dropout, Conv1D, GlobalMaxPooling1D\n",
    "from matplotlib import pyplot\n",
    "from sklearn.model_selection import train_test_split\n",
    "from keras.utils.np_utils import to_categorical\n",
    "import re\n",
    "from sklearn.preprocessing import LabelEncoder\n",
    "from keras.callbacks import TensorBoard\n",
    "from time import time\n",
    "import matplotlib.pyplot as plt"
   ]
  },
  {
   "cell_type": "code",
   "execution_count": 39,
   "metadata": {},
   "outputs": [
    {
     "name": "stdout",
     "output_type": "stream",
     "text": [
      "(156060, 4)\n",
      "(156060, 4)\n"
     ]
    },
    {
     "data": {
      "text/plain": [
       "<bound method NDFrame.head of         PhraseId  SentenceId  \\\n",
       "0              1           1   \n",
       "1              2           1   \n",
       "2              3           1   \n",
       "3              4           1   \n",
       "4              5           1   \n",
       "...          ...         ...   \n",
       "156055    156056        8544   \n",
       "156056    156057        8544   \n",
       "156057    156058        8544   \n",
       "156058    156059        8544   \n",
       "156059    156060        8544   \n",
       "\n",
       "                                                   Phrase  Sentiment  \n",
       "0       A series of escapades demonstrating the adage ...          1  \n",
       "1       A series of escapades demonstrating the adage ...          2  \n",
       "2                                                A series          2  \n",
       "3                                                       A          2  \n",
       "4                                                  series          2  \n",
       "...                                                   ...        ...  \n",
       "156055                                          Hearst 's          2  \n",
       "156056                          forced avuncular chortles          1  \n",
       "156057                                 avuncular chortles          3  \n",
       "156058                                          avuncular          2  \n",
       "156059                                           chortles          2  \n",
       "\n",
       "[156060 rows x 4 columns]>"
      ]
     },
     "execution_count": 39,
     "metadata": {},
     "output_type": "execute_result"
    }
   ],
   "source": [
    "training_data= pd.read_csv(\"./train.tsv\", sep=\"\\t\")\n",
    "print(training_data.shape)\n",
    "training_data.head\n",
    "testing_data = pd.read_csv(\"./test.tsv\", sep=\"\\t\")\n",
    "print(training_data.shape)\n",
    "training_data.head"
   ]
  },
  {
   "cell_type": "code",
   "execution_count": 40,
   "metadata": {},
   "outputs": [
    {
     "name": "stdout",
     "output_type": "stream",
     "text": [
      "(117045, 46) (117045, 5)\n",
      "(39015, 46) (39015, 5)\n"
     ]
    },
    {
     "name": "stderr",
     "output_type": "stream",
     "text": [
      "C:\\Users\\bharg\\anaconda3\\lib\\site-packages\\sklearn\\preprocessing\\_label.py:251: DataConversionWarning: A column-vector y was passed when a 1d array was expected. Please change the shape of y to (n_samples, ), for example using ravel().\n",
      "  y = column_or_1d(y, warn=True)\n"
     ]
    }
   ],
   "source": [
    "training_data = training_data.drop(columns=['PhraseId', 'SentenceId'])\n",
    "testing_data = testing_data.drop(columns=['PhraseId', 'SentenceId'])\n",
    "\n",
    "label=training_data[['Sentiment']]\n",
    "training_data=training_data.drop(columns=['Sentiment'])\n",
    "training_data['Phrase'] = training_data['Phrase'].apply(lambda x: re.sub('[^a-zA-z0-9\\s]', '', x.lower()))\n",
    "testing_data['Phrase'] = testing_data['Phrase'].apply(lambda x: re.sub('[^a-zA-z0-9\\s]', '', x.lower()))\n",
    "\n",
    "max_features =5000\n",
    "token = Tokenizer(num_words=max_features, split=' ')\n",
    "token.fit_on_texts(training_data['Phrase'].values)\n",
    "X_train = token.texts_to_sequences(training_data['Phrase'].values)\n",
    "X_train = pad_sequences(X_train)\n",
    "\n",
    "max_features = 2000\n",
    "token = Tokenizer(num_words=max_features, split=' ')\n",
    "token.fit_on_texts(testing_data['Phrase'].values)\n",
    "x_test = token.texts_to_sequences(testing_data['Phrase'].values)\n",
    "x_test = pad_sequences(x_test)\n",
    "\n",
    "label_encode = LabelEncoder()\n",
    "integer_encode = label_encode.fit_transform(label)\n",
    "y_train = to_categorical(integer_encode)\n",
    "x_tr, x_te, y_tr, y_te = train_test_split(X_train, y_train, test_size=0.25, random_state=30)\n",
    "print(x_tr.shape, y_tr.shape)\n",
    "print(x_te.shape, y_te.shape)"
   ]
  },
  {
   "cell_type": "code",
   "execution_count": 42,
   "metadata": {},
   "outputs": [
    {
     "name": "stdout",
     "output_type": "stream",
     "text": [
      "(117045, 46) (117045, 5)\n",
      "(39015, 46) (39015, 5)\n"
     ]
    }
   ],
   "source": [
    "label_encode = LabelEncoder()\n",
    "integer_encode = label_encode.fit_transform(label)\n",
    "y_train = to_categorical(integer_encode)\n",
    "x_tr, x_te, y_tr, y_te = train_test_split(X_train, y_train, test_size=0.25, random_state=30)\n",
    "print(x_tr.shape, y_tr.shape)\n",
    "print(x_te.shape, y_te.shape)"
   ]
  },
  {
   "cell_type": "code",
   "execution_count": 30,
   "metadata": {},
   "outputs": [
    {
     "name": "stdout",
     "output_type": "stream",
     "text": [
      "WARNING:tensorflow:From C:\\Users\\bharg\\anaconda3\\lib\\site-packages\\tensorflow\\python\\ops\\math_grad.py:102: div (from tensorflow.python.ops.math_ops) is deprecated and will be removed in a future version.\n",
      "Instructions for updating:\n",
      "Deprecated in favor of operator or tf.math.divide.\n",
      "Train on 117045 samples, validate on 39015 samples\n",
      "Epoch 1/5\n",
      " - 16s - loss: 1.2077 - accuracy: 0.5338 - val_loss: 1.0747 - val_accuracy: 0.5895\n",
      "Epoch 2/5\n",
      " - 16s - loss: 0.9580 - accuracy: 0.6224 - val_loss: 0.9381 - val_accuracy: 0.6274\n",
      "Epoch 3/5\n",
      " - 16s - loss: 0.8834 - accuracy: 0.6495 - val_loss: 0.9086 - val_accuracy: 0.6346\n",
      "Epoch 4/5\n",
      " - 16s - loss: 0.8460 - accuracy: 0.6635 - val_loss: 0.8907 - val_accuracy: 0.6418\n",
      "Epoch 5/5\n",
      " - 15s - loss: 0.8178 - accuracy: 0.6747 - val_loss: 0.8840 - val_accuracy: 0.6424\n"
     ]
    }
   ],
   "source": [
    "history= model.fit(x_tr, y_tr, validation_data=(x_te, y_te), epochs=5, batch_size=512, verbose=2)"
   ]
  },
  {
   "cell_type": "code",
   "execution_count": 31,
   "metadata": {},
   "outputs": [
    {
     "name": "stdout",
     "output_type": "stream",
     "text": [
      "Accuracy: 64.24%\n"
     ]
    }
   ],
   "source": [
    "scores = model.evaluate(x_te, y_te, verbose=0)\n",
    "print(\"Accuracy: %.2f%%\" % (scores[1]*100))"
   ]
  },
  {
   "cell_type": "code",
   "execution_count": 37,
   "metadata": {},
   "outputs": [
    {
     "data": {
      "text/plain": [
       "<matplotlib.legend.Legend at 0x1d427059bc8>"
      ]
     },
     "execution_count": 37,
     "metadata": {},
     "output_type": "execute_result"
    },
    {
     "data": {
      "image/png": "[encoded data removed]",
      "text/plain": [
       "<Figure size 432x288 with 1 Axes>"
      ]
     },
     "metadata": {
      "needs_background": "light"
     },
     "output_type": "display_data"
    }
   ],
   "source": [
    "from keras.optimizers import adam\n",
    "#in the above model evaluation, loss has been increased hence it is overfitting model, to overcome we will include learning rate\n",
    "s=adam(lr=0.001)\n",
    "model1= Sequential()\n",
    "model1.add(Embedding(5000,max_words))\n",
    "model1.add(Dropout(0.2))\n",
    "model1.add(Conv1D(64,kernel_size=3,padding='same',activation='relu',strides=1))\n",
    "model1.add(GlobalMaxPooling1D())\n",
    "model1.add(Dense(128,activation='relu'))\n",
    "model1.add(Dropout(0.2))\n",
    "model1.add(Dense(num_classes,activation='softmax'))\n",
    "model1.compile(loss='binary_crossentropy',optimizer=s,metrics=['accuracy'])"
   ]
  },
  {
   "cell_type": "code",
   "execution_count": 33,
   "metadata": {},
   "outputs": [],
   "source": [
    "from keras.optimizers import adam\n",
    "#in the above model evaluation, loss has been increased hence it is overfitting model, to overcome we will include learning rate\n",
    "s=adam(lr=0.001)\n",
    "model1= Sequential()\n",
    "model1.add(Embedding(5000,max_words))\n",
    "model1.add(Dropout(0.2))\n",
    "model1.add(Conv1D(64,kernel_size=3,padding='same',activation='relu',strides=1))\n",
    "model1.add(GlobalMaxPooling1D())\n",
    "model1.add(Dense(128,activation='relu'))\n",
    "model1.add(Dropout(0.2))\n",
    "model1.add(Dense(num_classes,activation='softmax'))\n",
    "model1.compile(loss='binary_crossentropy',optimizer=s,metrics=['accuracy'])"
   ]
  },
  {
   "cell_type": "code",
   "execution_count": 34,
   "metadata": {},
   "outputs": [
    {
     "name": "stdout",
     "output_type": "stream",
     "text": [
      "Train on 117045 samples, validate on 39015 samples\n",
      "Epoch 1/5\n",
      "117045/117045 [==============================] - 28s 239us/step - loss: 0.3487 - accuracy: 0.8470 - val_loss: 0.3213 - val_accuracy: 0.8555\n",
      "Epoch 2/5\n",
      "117045/117045 [==============================] - 27s 230us/step - loss: 0.3072 - accuracy: 0.8635 - val_loss: 0.3084 - val_accuracy: 0.8605\n",
      "Epoch 3/5\n",
      "117045/117045 [==============================] - 26s 220us/step - loss: 0.2919 - accuracy: 0.8708 - val_loss: 0.3052 - val_accuracy: 0.8622\n",
      "Epoch 4/5\n",
      "117045/117045 [==============================] - 27s 228us/step - loss: 0.2815 - accuracy: 0.8757 - val_loss: 0.3064 - val_accuracy: 0.8624\n",
      "Epoch 5/5\n",
      "117045/117045 [==============================] - 27s 227us/step - loss: 0.2742 - accuracy: 0.8789 - val_loss: 0.3041 - val_accuracy: 0.8633\n"
     ]
    }
   ],
   "source": [
    "history1=model1.fit(x_tr, y_tr, validation_data=(x_te, y_te), epochs=5, batch_size=51, verbose=1)\n"
   ]
  },
  {
   "cell_type": "code",
   "execution_count": 36,
   "metadata": {},
   "outputs": [
    {
     "data": {
      "text/plain": [
       "<matplotlib.legend.Legend at 0x1d426fd5848>"
      ]
     },
     "execution_count": 36,
     "metadata": {},
     "output_type": "execute_result"
    },
    {
     "data": {
      "image/png": "[encoded data removed]",
      "text/plain": [
       "<Figure size 432x288 with 1 Axes>"
      ]
     },
     "metadata": {
      "needs_background": "light"
     },
     "output_type": "display_data"
    }
   ],
   "source": [
    "plt.figure()\n",
    "plt.plot(history1.history[\"val_loss\"], label=\"validation loss\")\n",
    "plt.plot(history1.history[\"val_accuracy\"], label=\"validation accuracy\")\n",
    "plt.plot(history1.history[\"loss\"], label=\"training Loss\")\n",
    "plt.plot(history1.history[\"accuracy\"], label=\"training accuracy\")\n",
    "plt.title(\"the loss and accuracy for both training data and validation data\")\n",
    "plt.xlabel(\"Epoch 5\")\n",
    "plt.ylabel(\"Loss/Accuracy\")\n",
    "plt.legend(loc=\"best\")"
   ]
  }
 ],
 "metadata": {
  "kernelspec": {
   "display_name": "Python 3",
   "language": "python",
   "name": "python3"
  },
  "language_info": {
   "codemirror_mode": {
    "name": "ipython",
    "version": 3
   },
   "file_extension": ".py",
   "mimetype": "text/x-python",
   "name": "python",
   "nbconvert_exporter": "python",
   "pygments_lexer": "ipython3",
   "version": "3.7.6"
  }
 },
 "nbformat": 4,
 "nbformat_minor": 4
}
