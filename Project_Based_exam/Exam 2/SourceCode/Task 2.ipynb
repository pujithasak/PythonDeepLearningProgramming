{
 "cells": [
  {
   "cell_type": "code",
   "execution_count": 2,
   "metadata": {
    "colab": {
     "base_uri": "https://localhost:8080/",
     "height": 34
    },
    "colab_type": "code",
    "executionInfo": {
     "elapsed": 2084,
     "status": "ok",
     "timestamp": 1595986855858,
     "user": {
      "displayName": "Anh Nguyen",
      "photoUrl": "",
      "userId": "12620474791972117544"
     },
     "user_tz": 300
    },
    "id": "6f48GFjf1G49",
    "outputId": "d8d70e66-4317-4f58-9091-dfb9cf3bc2ba"
   },
   "outputs": [],
   "source": [
    "from sklearn.datasets import fetch_20newsgroups\n",
    "from keras.preprocessing.text import Tokenizer\n",
    "from keras.preprocessing.sequence import pad_sequences\n",
    "import keras\n",
    "from keras.layers import Embedding, Dense, LSTM, GRU\n",
    "from keras.models import Sequential\n",
    "from sklearn.model_selection import train_test_split, StratifiedShuffleSplit\n",
    "import string"
   ]
  },
  {
   "cell_type": "markdown",
   "metadata": {
    "colab_type": "text",
    "id": "3dbF5JIY_8tM"
   },
   "source": []
  },
  {
   "cell_type": "code",
   "execution_count": 3,
   "metadata": {
    "colab": {},
    "colab_type": "code",
    "id": "2Rh-rlD81HVE"
   },
   "outputs": [],
   "source": [
    "categories = ['comp.sys.mac.hardware',\n",
    " 'comp.windows.x',\n",
    " 'misc.forsale',\n",
    " 'rec.autos',\n",
    "'soc.religion.christian',\n",
    " 'talk.politics.guns',\n",
    " 'talk.politics.mideast']\n",
    "# Prepare train and test data\n",
    "data = fetch_20newsgroups(shuffle=True, subset='train', categories=categories)\n",
    "test = fetch_20newsgroups(shuffle=True, subset='test', categories=categories)\n",
    "news, news_topics, _classes = data.data, data.target, data.target_names"
   ]
  },
  {
   "cell_type": "code",
   "execution_count": 4,
   "metadata": {
    "colab": {},
    "colab_type": "code",
    "id": "cJDRKEXE1HXq"
   },
   "outputs": [],
   "source": [
    "# Tokenize the sentences into words (2000)\n",
    "nb_words = 10000\n",
    "tokenizer = Tokenizer(num_words=nb_words)\n",
    "tokenizer.fit_on_texts(news)\n",
    "sequences = Tokenizer.texts_to_sequences(tokenizer, news)"
   ]
  },
  {
   "cell_type": "code",
   "execution_count": 5,
   "metadata": {
    "colab": {
     "base_uri": "https://localhost:8080/",
     "height": 34
    },
    "colab_type": "code",
    "executionInfo": {
     "elapsed": 4330,
     "status": "ok",
     "timestamp": 1595986858128,
     "user": {
      "displayName": "Anh Nguyen",
      "photoUrl": "",
      "userId": "12620474791972117544"
     },
     "user_tz": 300
    },
    "id": "0_Nk5ycJ1Haa",
    "outputId": "2d54fe4c-0a6e-4cd0-f529-788ac9a3e242"
   },
   "outputs": [
    {
     "name": "stdout",
     "output_type": "stream",
     "text": [
      "Found 55199 unique tokens.\n"
     ]
    }
   ],
   "source": [
    "word_index = tokenizer.word_index\n",
    "print('Found %s unique tokens.' % len(word_index))"
   ]
  },
  {
   "cell_type": "code",
   "execution_count": 6,
   "metadata": {
    "colab": {
     "base_uri": "https://localhost:8080/",
     "height": 50
    },
    "colab_type": "code",
    "executionInfo": {
     "elapsed": 4433,
     "status": "ok",
     "timestamp": 1595986858242,
     "user": {
      "displayName": "Anh Nguyen",
      "photoUrl": "",
      "userId": "12620474791972117544"
     },
     "user_tz": 300
    },
    "id": "SCNhz9QF1Hc7",
    "outputId": "b965cf02-517a-43ff-e0fb-551eb1c285a5"
   },
   "outputs": [
    {
     "name": "stdout",
     "output_type": "stream",
     "text": [
      "Shape of data tensor: (4059, 1000)\n",
      "Shape of label tensor: (4059, 7)\n"
     ]
    }
   ],
   "source": [
    "max_seq_len = 1000\n",
    "input_data = pad_sequences(sequences, maxlen=max_seq_len)\n",
    "one_hot_labels = keras.utils.to_categorical(news_topics)\n",
    "\n",
    "print('Shape of data tensor:', input_data.shape)\n",
    "print('Shape of label tensor:', one_hot_labels.shape)"
   ]
  },
  {
   "cell_type": "code",
   "execution_count": 7,
   "metadata": {
    "colab": {
     "base_uri": "https://localhost:8080/",
     "height": 34
    },
    "colab_type": "code",
    "executionInfo": {
     "elapsed": 4425,
     "status": "ok",
     "timestamp": 1595986858244,
     "user": {
      "displayName": "Anh Nguyen",
      "photoUrl": "",
      "userId": "12620474791972117544"
     },
     "user_tz": 300
    },
    "id": "uA26LzuvK51l",
    "outputId": "5a0dc0a2-f21b-4147-cff6-77ff6ceddb61"
   },
   "outputs": [
    {
     "data": {
      "text/plain": [
       "55199"
      ]
     },
     "execution_count": 7,
     "metadata": {},
     "output_type": "execute_result"
    }
   ],
   "source": [
    "Xtrain, Xvalid, ytrain, yvalid = train_test_split(input_data, one_hot_labels, test_size=0.2)\n",
    "len(word_index)"
   ]
  },
  {
   "cell_type": "code",
   "execution_count": 8,
   "metadata": {
    "colab": {
     "base_uri": "https://localhost:8080/",
     "height": 356
    },
    "colab_type": "code",
    "executionInfo": {
     "elapsed": 509,
     "status": "ok",
     "timestamp": 1595986896012,
     "user": {
      "displayName": "Anh Nguyen",
      "photoUrl": "",
      "userId": "12620474791972117544"
     },
     "user_tz": 300
    },
    "id": "TXW8jdm9K9W5",
    "outputId": "30fea7cf-92c1-412a-f2ee-1546afc8f514"
   },
   "outputs": [
    {
     "name": "stdout",
     "output_type": "stream",
     "text": [
      "WARNING:tensorflow:From C:\\Users\\bharg\\anaconda3\\lib\\site-packages\\tensorflow\\python\\ops\\resource_variable_ops.py:435: colocate_with (from tensorflow.python.framework.ops) is deprecated and will be removed in a future version.\n",
      "Instructions for updating:\n",
      "Colocations handled automatically by placer.\n"
     ]
    },
    {
     "name": "stderr",
     "output_type": "stream",
     "text": [
      "C:\\Users\\bharg\\anaconda3\\lib\\site-packages\\ipykernel_launcher.py:4: UserWarning: Update your `Embedding` call to the Keras 2 API: `Embedding(55199, 64, input_length=1000, embeddings_initializer=\"glorot_normal\", embeddings_regularizer=<keras.reg...)`\n",
      "  after removing the cwd from sys.path.\n",
      "C:\\Users\\bharg\\anaconda3\\lib\\site-packages\\ipykernel_launcher.py:7: UserWarning: Update your `LSTM` call to the Keras 2 API: `LSTM(100, dropout=0.25)`\n",
      "  import sys\n"
     ]
    },
    {
     "name": "stdout",
     "output_type": "stream",
     "text": [
      "Model: \"sequential_1\"\n",
      "_________________________________________________________________\n",
      "Layer (type)                 Output Shape              Param #   \n",
      "=================================================================\n",
      "embedding_1 (Embedding)      (None, 1000, 64)          3532736   \n",
      "_________________________________________________________________\n",
      "lstm_1 (LSTM)                (None, 100)               66000     \n",
      "_________________________________________________________________\n",
      "dense_1 (Dense)              (None, 7)                 707       \n",
      "=================================================================\n",
      "Total params: 3,599,443\n",
      "Trainable params: 3,599,443\n",
      "Non-trainable params: 0\n",
      "_________________________________________________________________\n",
      "None\n"
     ]
    }
   ],
   "source": [
    "embedding_vector_length = 64\n",
    "model = Sequential()\n",
    "# add embedding layer\n",
    "model.add(Embedding(len(word_index), embedding_vector_length, input_length=max_seq_len, init='glorot_normal', W_regularizer=keras.regularizers.l2(0.01)))\n",
    "# add this to run without embedding layer\n",
    "model.add(LSTM(100, dropout_W=0.25))\n",
    "model.add(Dense(7, activation='softmax'))\n",
    "model.compile(loss='binary_crossentropy', optimizer='adam', metrics=['accuracy'])\n",
    "print(model.summary())"
   ]
  },
  {
   "cell_type": "code",
   "execution_count": 9,
   "metadata": {
    "colab": {
     "base_uri": "https://localhost:8080/",
     "height": 34
    },
    "colab_type": "code",
    "executionInfo": {
     "elapsed": 283,
     "status": "ok",
     "timestamp": 1595987019163,
     "user": {
      "displayName": "Anh Nguyen",
      "photoUrl": "",
      "userId": "12620474791972117544"
     },
     "user_tz": 300
    },
    "id": "t5lyTvXvO_Ir",
    "outputId": "bc1106d1-0708-4080-fbea-6890896a4e31"
   },
   "outputs": [
    {
     "data": {
      "text/plain": [
       "((3247, 1000), (3247, 7), (812, 1000), (812, 7))"
      ]
     },
     "execution_count": 9,
     "metadata": {},
     "output_type": "execute_result"
    }
   ],
   "source": [
    "Xtrain.shape, ytrain.shape, Xvalid.shape, yvalid.shape"
   ]
  },
  {
   "cell_type": "code",
   "execution_count": 10,
   "metadata": {
    "colab": {
     "base_uri": "https://localhost:8080/",
     "height": 706
    },
    "colab_type": "code",
    "executionInfo": {
     "elapsed": 1250930,
     "status": "ok",
     "timestamp": 1595992273774,
     "user": {
      "displayName": "Anh Nguyen",
      "photoUrl": "",
      "userId": "12620474791972117544"
     },
     "user_tz": 300
    },
    "id": "FQu0KIACPCwp",
    "outputId": "a2f45a30-c4d8-437d-c5ae-1425fe4884bb"
   },
   "outputs": [
    {
     "name": "stdout",
     "output_type": "stream",
     "text": [
      "WARNING:tensorflow:From C:\\Users\\bharg\\anaconda3\\lib\\site-packages\\tensorflow\\python\\ops\\math_ops.py:3066: to_int32 (from tensorflow.python.ops.math_ops) is deprecated and will be removed in a future version.\n",
      "Instructions for updating:\n",
      "Use tf.cast instead.\n",
      "Train on 3247 samples, validate on 812 samples\n",
      "Epoch 1/20\n",
      "3247/3247 [==============================] - 75s 23ms/step - loss: 0.5250 - accuracy: 0.8571 - val_loss: 0.4128 - val_accuracy: 0.8571\n",
      "Epoch 2/20\n",
      "3247/3247 [==============================] - 70s 22ms/step - loss: 0.4085 - accuracy: 0.8580 - val_loss: 0.4200 - val_accuracy: 0.8571\n",
      "Epoch 3/20\n",
      "3247/3247 [==============================] - 70s 22ms/step - loss: 0.4006 - accuracy: 0.8610 - val_loss: 0.3795 - val_accuracy: 0.8702\n",
      "Epoch 4/20\n",
      "3247/3247 [==============================] - 70s 22ms/step - loss: 0.4033 - accuracy: 0.8686 - val_loss: 0.4073 - val_accuracy: 0.8719\n",
      "Epoch 5/20\n",
      "3247/3247 [==============================] - 77s 24ms/step - loss: 0.3911 - accuracy: 0.8731 - val_loss: 0.3927 - val_accuracy: 0.8747\n",
      "Epoch 6/20\n",
      "3247/3247 [==============================] - 70s 22ms/step - loss: 0.3885 - accuracy: 0.8714 - val_loss: 0.4122 - val_accuracy: 0.8681\n",
      "Epoch 7/20\n",
      "3247/3247 [==============================] - 69s 21ms/step - loss: 0.3819 - accuracy: 0.8710 - val_loss: 0.3849 - val_accuracy: 0.8735\n",
      "Epoch 8/20\n",
      "3247/3247 [==============================] - 69s 21ms/step - loss: 0.3994 - accuracy: 0.8739 - val_loss: 0.4198 - val_accuracy: 0.8695\n",
      "Epoch 9/20\n",
      "3247/3247 [==============================] - 67s 21ms/step - loss: 0.3967 - accuracy: 0.8756 - val_loss: 0.4361 - val_accuracy: 0.8573\n",
      "Epoch 10/20\n",
      "3247/3247 [==============================] - 67s 21ms/step - loss: 0.3962 - accuracy: 0.8756 - val_loss: 0.3973 - val_accuracy: 0.8728\n",
      "Epoch 11/20\n",
      "3247/3247 [==============================] - 66s 20ms/step - loss: 0.4232 - accuracy: 0.8811 - val_loss: 0.4449 - val_accuracy: 0.8740\n",
      "Epoch 12/20\n",
      "3247/3247 [==============================] - 71s 22ms/step - loss: 0.4019 - accuracy: 0.8827 - val_loss: 0.4042 - val_accuracy: 0.8853\n",
      "Epoch 13/20\n",
      "3247/3247 [==============================] - 66s 20ms/step - loss: 0.3818 - accuracy: 0.8881 - val_loss: 0.3779 - val_accuracy: 0.8886\n",
      "Epoch 14/20\n",
      "3247/3247 [==============================] - 71s 22ms/step - loss: 0.3594 - accuracy: 0.8945 - val_loss: 0.4247 - val_accuracy: 0.8849\n",
      "Epoch 15/20\n",
      "3247/3247 [==============================] - 70s 22ms/step - loss: 0.3554 - accuracy: 0.8996 - val_loss: 0.3572 - val_accuracy: 0.8967\n",
      "Epoch 16/20\n",
      "3247/3247 [==============================] - 75s 23ms/step - loss: 0.3423 - accuracy: 0.9053 - val_loss: 0.3630 - val_accuracy: 0.9004\n",
      "Epoch 17/20\n",
      "3247/3247 [==============================] - 70s 21ms/step - loss: 0.3815 - accuracy: 0.9004 - val_loss: 0.4118 - val_accuracy: 0.8871\n",
      "Epoch 18/20\n",
      "3247/3247 [==============================] - 73s 22ms/step - loss: 0.3449 - accuracy: 0.9098 - val_loss: 0.3688 - val_accuracy: 0.9001\n",
      "Epoch 19/20\n",
      "3247/3247 [==============================] - 76s 23ms/step - loss: 0.3499 - accuracy: 0.9128 - val_loss: 0.3650 - val_accuracy: 0.9075\n",
      "Epoch 20/20\n",
      "3247/3247 [==============================] - 73s 22ms/step - loss: 0.3636 - accuracy: 0.9123 - val_loss: 0.4210 - val_accuracy: 0.8978\n"
     ]
    }
   ],
   "source": [
    "history=model.fit(Xtrain, ytrain, epochs=20,verbose=True, validation_data=(Xvalid,yvalid), batch_size=64)"
   ]
  },
  {
   "cell_type": "code",
   "execution_count": 11,
   "metadata": {
    "colab": {
     "base_uri": "https://localhost:8080/",
     "height": 295
    },
    "colab_type": "code",
    "executionInfo": {
     "elapsed": 503,
     "status": "ok",
     "timestamp": 1595992446596,
     "user": {
      "displayName": "Anh Nguyen",
      "photoUrl": "",
      "userId": "12620474791972117544"
     },
     "user_tz": 300
    },
    "id": "7ikwfXtn22Nr",
    "outputId": "89714a62-422e-40ec-efb8-0114520ece7e"
   },
   "outputs": [
    {
     "data": {
      "image/png": "[encoded data removed]",
      "text/plain": [
       "<Figure size 432x288 with 1 Axes>"
      ]
     },
     "metadata": {
      "needs_background": "light"
     },
     "output_type": "display_data"
    }
   ],
   "source": [
    "import matplotlib.pyplot as plt\n",
    "plt.plot(history.history['accuracy'])\n",
    "plt.plot(history.history['val_accuracy'])\n",
    "plt.title('Train and validation accuracy')\n",
    "plt.xlabel('Number of epochs')\n",
    "plt.ylabel('Accuracy')\n",
    "plt.legend(['Train', 'Validation'], loc='upper right')\n",
    "plt.show()"
   ]
  },
  {
   "cell_type": "code",
   "execution_count": 12,
   "metadata": {
    "colab": {
     "base_uri": "https://localhost:8080/",
     "height": 295
    },
    "colab_type": "code",
    "executionInfo": {
     "elapsed": 519,
     "status": "ok",
     "timestamp": 1595992451249,
     "user": {
      "displayName": "Anh Nguyen",
      "photoUrl": "",
      "userId": "12620474791972117544"
     },
     "user_tz": 300
    },
    "id": "VBcAD6Jf3BjF",
    "outputId": "455bbb48-a34a-406b-a90b-9a0032b0f4fd"
   },
   "outputs": [
    {
     "data": {
      "image/png": "[encoded data removed]",
      "text/plain": [
       "<Figure size 432x288 with 1 Axes>"
      ]
     },
     "metadata": {
      "needs_background": "light"
     },
     "output_type": "display_data"
    }
   ],
   "source": [
    "plt.plot(history.history['loss'])\n",
    "plt.plot(history.history['val_loss'])\n",
    "plt.title('Train and validation loss')\n",
    "plt.xlabel('Number of epochs')\n",
    "plt.ylabel('Loss')\n",
    "plt.legend(['Train', 'Validation'], loc='upper right')\n",
    "plt.show()"
   ]
  }
 ],
 "metadata": {
  "accelerator": "TPU",
  "colab": {
   "authorship_tag": "ABX9TyPmqO6FQId4s2ZeEbZ6Oznf",
   "name": "Q2.ipynb",
   "provenance": []
  },
  "kernelspec": {
   "display_name": "Python 3",
   "language": "python",
   "name": "python3"
  },
  "language_info": {
   "codemirror_mode": {
    "name": "ipython",
    "version": 3
   },
   "file_extension": ".py",
   "mimetype": "text/x-python",
   "name": "python",
   "nbconvert_exporter": "python",
   "pygments_lexer": "ipython3",
   "version": "3.7.6"
  }
 },
 "nbformat": 4,
 "nbformat_minor": 1
}
