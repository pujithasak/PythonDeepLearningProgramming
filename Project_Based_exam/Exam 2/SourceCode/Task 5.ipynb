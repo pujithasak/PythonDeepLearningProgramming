{
  "nbformat": 4,
  "nbformat_minor": 0,
  "metadata": {
    "colab": {
      "name": "Cifar10.ipynb",
      "provenance": [],
      "collapsed_sections": []
    },
    "kernelspec": {
      "name": "python3",
      "display_name": "Python 3"
    }
  },
  "cells": [
    {
      "cell_type": "markdown",
      "metadata": {
        "id": "VWF3sOBpRPwT",
        "colab_type": "text"
      },
      "source": [
        "Apply Autoencoder on the Cifar_10 dataset and then pass the result of Autoencoder to CNN or LSTM or three layers model to classify data\n",
        "\n",
        "a.\tRepeat the same thing with PCA (apply PCA on the dataset and then pass the result to CNN or LSTM or three layers model)\n",
        "\n",
        "b.\tCompare the result of both approach\n"
      ]
    },
    {
      "cell_type": "markdown",
      "metadata": {
        "id": "HV-72jxmRXns",
        "colab_type": "text"
      },
      "source": [
        "**AutoEncoder+CNN**"
      ]
    },
    {
      "cell_type": "code",
      "metadata": {
        "id": "oeBVNKbkZd5a",
        "colab_type": "code",
        "colab": {
          "base_uri": "https://localhost:8080/",
          "height": 34
        },
        "outputId": "31fba5bf-9e5d-4384-b22b-73fddba5d2aa"
      },
      "source": [
        "import numpy as np\n",
        "import pandas as pd\n",
        "\n",
        "import matplotlib.pyplot as plt\n",
        "\n",
        "from time import time\n",
        "from random import randint\n",
        "\n",
        "from sklearn.decomposition import PCA\n",
        "from sklearn.preprocessing import StandardScaler\n",
        "\n",
        "import tensorflow as tf\n",
        "from tensorflow import keras\n",
        "from tensorflow.keras import datasets, layers, models\n",
        "from tensorflow.keras.models import load_model\n",
        "\n",
        "from keras import regularizers\n",
        "from keras import backend as K\n",
        "\n",
        "from keras.datasets import cifar10\n",
        "from keras.utils import np_utils\n",
        "from keras.constraints import maxnorm\n",
        "from keras.layers import Dense, Input\n",
        "from keras.layers import Dropout\n",
        "from keras.layers import Flatten\n",
        "from keras.optimizers import SGD\n",
        "from keras.models import Model\n",
        "from keras.callbacks import TensorBoard"
      ],
      "execution_count": null,
      "outputs": [
        {
          "output_type": "stream",
          "text": [
            "Using TensorFlow backend.\n"
          ],
          "name": "stderr"
        }
      ]
    },
    {
      "cell_type": "code",
      "metadata": {
        "id": "Oui44Ztdbr4I",
        "colab_type": "code",
        "colab": {}
      },
      "source": [
        "(x_train, y_train), (x_test, y_test) = cifar10.load_data() # loading data into dataframe"
      ],
      "execution_count": null,
      "outputs": []
    },
    {
      "cell_type": "code",
      "metadata": {
        "id": "w7I6lr3Eb1x2",
        "colab_type": "code",
        "colab": {}
      },
      "source": [
        "x_train = x_train.reshape(50000,3,32,32).transpose(0,2,3,1).astype(\"uint8\") #uint8-data type contains all whole numbers from 0 to 255\n",
        "x_test = x_test.reshape(10000,3,32,32).transpose(0,2,3,1).astype(\"uint8\") #uint8-data type contains all whole numbers from 0 to 255"
      ],
      "execution_count": null,
      "outputs": []
    },
    {
      "cell_type": "code",
      "metadata": {
        "id": "jtsqmvfFb4Z-",
        "colab_type": "code",
        "colab": {
          "base_uri": "https://localhost:8080/",
          "height": 51
        },
        "outputId": "45fb183a-f3c2-4bac-c356-444f383c2787"
      },
      "source": [
        "x_train = x_train.astype('uint8') / 255. # Scaling inputs from 0-255 to 0.0-1.0\n",
        "x_test = x_test.astype('uint8') / 255. # Scaling inputs from 0-255 to 0.0-1.0\n",
        "x_train = x_train.reshape((len(x_train), np.prod(x_train.shape[1:]))) #flatten 32x32 images into vectors of size 3072\n",
        "x_test = x_test.reshape((len(x_test), np.prod(x_test.shape[1:]))) #flatten 32x32 images into vectors of size 3072\n",
        "print(x_train.shape)\n",
        "print(x_test.shape)"
      ],
      "execution_count": null,
      "outputs": [
        {
          "output_type": "stream",
          "text": [
            "(50000, 3072)\n",
            "(10000, 3072)\n"
          ],
          "name": "stdout"
        }
      ]
    },
    {
      "cell_type": "code",
      "metadata": {
        "id": "XEHVKZQScCYl",
        "colab_type": "code",
        "colab": {
          "base_uri": "https://localhost:8080/",
          "height": 34
        },
        "outputId": "304a521d-fe9d-400d-84a1-116db33979d5"
      },
      "source": [
        "# one hot encoding on target labels\n",
        "y_train = np_utils.to_categorical(y_train)\n",
        "y_test = np_utils.to_categorical(y_test)\n",
        "num_classes = y_test.shape[1]\n",
        "num_classes"
      ],
      "execution_count": null,
      "outputs": [
        {
          "output_type": "execute_result",
          "data": {
            "text/plain": [
              "10"
            ]
          },
          "metadata": {
            "tags": []
          },
          "execution_count": 5
        }
      ]
    },
    {
      "cell_type": "code",
      "metadata": {
        "id": "NQnmtWKwa1N9",
        "colab_type": "code",
        "colab": {}
      },
      "source": [
        "j = randint(0,10000)\n",
        "\n",
        "# Single fully-connected neural layer as encoder and decoder\n",
        "\n",
        "encoding_dim = 128  # 128 floats -> compression of 24 for each Neuron, as the input shape is 3072\n",
        "input_img = Input(shape=(3072,)) #Input shape is 3072 from X_train.shape, X_test.shape\n",
        "encoded = Dense(encoding_dim, activation='relu')(input_img) # 128 Neurons for encoded representations\n",
        "decoded = Dense(3072, activation='sigmoid')(encoded) #Output & Input Neurons should be same as Mirror image\n",
        "autoencoder = Model(input_img, decoded) #maps an input to its reconstruction\n",
        "encoder = Model(input_img, encoded) #maps an input to its encoded representation\n",
        "\n",
        "# Decoder Model\n",
        "encoded_input = Input(shape=(encoding_dim,)) # create a placeholder for an encoded (32-dimensional) input\n",
        "decoder_layer = autoencoder.layers[-1] # retrieve the last layer of the autoencoder model\n",
        "decoder = Model(encoded_input, decoder_layer(encoded_input)) # create the decoder model\n",
        "\n",
        "autoencoder.compile(optimizer='adadelta', loss='binary_crossentropy', metrics=['accuracy']) # Autoencoder model configuration"
      ],
      "execution_count": null,
      "outputs": []
    },
    {
      "cell_type": "code",
      "metadata": {
        "id": "5HRiAUX7cOkb",
        "colab_type": "code",
        "colab": {
          "base_uri": "https://localhost:8080/",
          "height": 136
        },
        "outputId": "74f9a4a6-bcde-4426-ac35-ea681ba9b87c"
      },
      "source": [
        "tensorboard = TensorBoard(log_dir='2', histogram_freq=0, write_graph=True, write_images=False)\n",
        "history = autoencoder.fit(x_train, x_train, epochs=3, batch_size=256, shuffle=True, validation_data=(x_test, x_test), callbacks=[tensorboard])"
      ],
      "execution_count": null,
      "outputs": [
        {
          "output_type": "stream",
          "text": [
            "Train on 50000 samples, validate on 10000 samples\n",
            "Epoch 1/3\n",
            "50000/50000 [==============================] - 14s 278us/step - loss: 0.6927 - accuracy: 0.0067 - val_loss: 0.6915 - val_accuracy: 0.0074\n",
            "Epoch 2/3\n",
            "50000/50000 [==============================] - 13s 261us/step - loss: 0.6875 - accuracy: 0.0083 - val_loss: 0.6819 - val_accuracy: 0.0091\n",
            "Epoch 3/3\n",
            "50000/50000 [==============================] - 13s 262us/step - loss: 0.6771 - accuracy: 0.0093 - val_loss: 0.6725 - val_accuracy: 0.0095\n"
          ],
          "name": "stdout"
        }
      ]
    },
    {
      "cell_type": "code",
      "metadata": {
        "id": "GEpseAFycSNH",
        "colab_type": "code",
        "colab": {}
      },
      "source": [
        "# reconstructed inputs and encoded representations\n",
        "\n",
        "# encode and decode on test data\n",
        "encoded_imgs = encoder.predict(x_test)\n",
        "decoded_imgs = decoder.predict(encoded_imgs)"
      ],
      "execution_count": null,
      "outputs": []
    },
    {
      "cell_type": "markdown",
      "metadata": {
        "id": "xD_diJN1hpAk",
        "colab_type": "text"
      },
      "source": [
        "**Autoencoder output for CNN**"
      ]
    },
    {
      "cell_type": "code",
      "metadata": {
        "id": "-y5dVQ7hhTZd",
        "colab_type": "code",
        "colab": {}
      },
      "source": [
        "x_train2 = x_train\n",
        "\n",
        "for i in range(0, 50000):\n",
        "  prediction = autoencoder.predict(x_train[i].reshape(1,3072))\n",
        "  x_train2[i] = prediction"
      ],
      "execution_count": null,
      "outputs": []
    },
    {
      "cell_type": "code",
      "metadata": {
        "id": "VtF9fnEphvlR",
        "colab_type": "code",
        "colab": {}
      },
      "source": [
        "x_test2 = x_test.copy()\n",
        "\n",
        "for i in range(0, 10000):\n",
        "  prediction = autoencoder.predict(x_test[i].reshape(1,3072))\n",
        "  x_test2[i] = prediction"
      ],
      "execution_count": null,
      "outputs": []
    },
    {
      "cell_type": "code",
      "metadata": {
        "id": "CgojnuAJhye1",
        "colab_type": "code",
        "colab": {
          "base_uri": "https://localhost:8080/",
          "height": 34
        },
        "outputId": "e8ac9307-931c-48d2-fca3-bc066f5e3a66"
      },
      "source": [
        "# Change input shape from (,3072) to (,32,32,3)\n",
        "\n",
        "x_train2 = np.array(x_train2).reshape([-1, 32, 32, 3]) \n",
        "x_train2.shape\n",
        "\n",
        "x_test2 = np.array(x_test2).reshape([-1, 32, 32, 3]) \n",
        "x_test2.shape"
      ],
      "execution_count": null,
      "outputs": [
        {
          "output_type": "execute_result",
          "data": {
            "text/plain": [
              "(10000, 32, 32, 3)"
            ]
          },
          "metadata": {
            "tags": []
          },
          "execution_count": 11
        }
      ]
    },
    {
      "cell_type": "code",
      "metadata": {
        "id": "fL1v_qn3iKk0",
        "colab_type": "code",
        "colab": {
          "base_uri": "https://localhost:8080/",
          "height": 266
        },
        "outputId": "ab9a1087-46ef-4e09-f7da-e0f84603f842"
      },
      "source": [
        "# result of autoencoder on a random image from test dataset\n",
        "\n",
        "# original Image\n",
        "plt.imshow(x_test[j].reshape(32,32,3))\n",
        "plt.show()"
      ],
      "execution_count": null,
      "outputs": [
        {
          "output_type": "display_data",
          "data": {
            "image/png": "[encoded data removed]",
            "text/plain": [
              "<Figure size 432x288 with 1 Axes>"
            ]
          },
          "metadata": {
            "tags": [],
            "needs_background": "light"
          }
        }
      ]
    },
    {
      "cell_type": "code",
      "metadata": {
        "id": "H5I9vNA-iVqH",
        "colab_type": "code",
        "colab": {
          "base_uri": "https://localhost:8080/",
          "height": 266
        },
        "outputId": "99f731c8-5238-4f96-991c-8ec16d3f809c"
      },
      "source": [
        "# reconstruction Image\n",
        "plt.imshow(x_test2[j].reshape(32,32,3))\n",
        "plt.show()"
      ],
      "execution_count": null,
      "outputs": [
        {
          "output_type": "display_data",
          "data": {
            "image/png": "[encoded data removed]",
            "text/plain": [
              "<Figure size 432x288 with 1 Axes>"
            ]
          },
          "metadata": {
            "tags": [],
            "needs_background": "light"
          }
        }
      ]
    },
    {
      "cell_type": "code",
      "metadata": {
        "id": "2nKvNzmAiacZ",
        "colab_type": "code",
        "colab": {
          "base_uri": "https://localhost:8080/",
          "height": 295
        },
        "outputId": "b99038da-5eb3-4777-88cc-f435231fbbd7"
      },
      "source": [
        "#history graph for accuracy\n",
        "plt.plot(history.history['accuracy'])\n",
        "plt.plot(history.history['val_accuracy'])\n",
        "plt.title('model accuracy')\n",
        "plt.ylabel('accuracy')\n",
        "plt.xlabel('epoch')\n",
        "plt.legend(['train', 'test'], loc='upper left')\n",
        "plt.show()"
      ],
      "execution_count": null,
      "outputs": [
        {
          "output_type": "display_data",
          "data": {
            "image/png": "[encoded data removed]",
            "text/plain": [
              "<Figure size 432x288 with 1 Axes>"
            ]
          },
          "metadata": {
            "tags": [],
            "needs_background": "light"
          }
        }
      ]
    },
    {
      "cell_type": "code",
      "metadata": {
        "id": "E4yXfXKajlm8",
        "colab_type": "code",
        "colab": {
          "base_uri": "https://localhost:8080/",
          "height": 295
        },
        "outputId": "df14f3f7-7d36-41ab-d3d1-5febfba0c6bc"
      },
      "source": [
        "# history graph for loss\n",
        "plt.plot(history.history['loss'])\n",
        "plt.plot(history.history['val_loss'])\n",
        "plt.title('model loss')\n",
        "plt.ylabel('loss')\n",
        "plt.xlabel('epoch')\n",
        "plt.legend(['train', 'test'], loc='upper left')\n",
        "plt.show()"
      ],
      "execution_count": null,
      "outputs": [
        {
          "output_type": "display_data",
          "data": {
            "image/png": "[encoded data removed]",
            "text/plain": [
              "<Figure size 432x288 with 1 Axes>"
            ]
          },
          "metadata": {
            "tags": [],
            "needs_background": "light"
          }
        }
      ]
    },
    {
      "cell_type": "markdown",
      "metadata": {
        "id": "hEiOW70rjsBh",
        "colab_type": "text"
      },
      "source": [
        "**Applying CNN on AutoEncoded Data**"
      ]
    },
    {
      "cell_type": "code",
      "metadata": {
        "id": "EeBHF-ymjpZH",
        "colab_type": "code",
        "colab": {
          "base_uri": "https://localhost:8080/",
          "height": 425
        },
        "outputId": "90e699cb-f79e-4b63-f043-9f9c929d4150"
      },
      "source": [
        "model = models.Sequential() #Sequential Neural Network\n",
        "model.add(layers.Conv2D(32, (3, 3), padding='same', activation='relu', input_shape=(32,32,3), kernel_constraint=maxnorm(3))) #2D convolutinal model\n",
        "model.add(layers.Dropout(0.2)) #Dropout 20%\n",
        "model.add(layers.Conv2D(32, (3, 3), activation='relu', padding='same', kernel_constraint=maxnorm(3)))\n",
        "model.add(layers.MaxPooling2D(pool_size=(2, 2))) #Max pool of size (2*2)\n",
        "model.add(layers.Flatten())\n",
        "model.add(layers.Dense(512, activation='relu', kernel_constraint=maxnorm(3)))\n",
        "model.add(layers.Dropout(0.5)) #drop out of 50%\n",
        "model.add(layers.Dense(num_classes, activation='softmax')) #10 Output Neurons\n",
        "model.summary()"
      ],
      "execution_count": null,
      "outputs": [
        {
          "output_type": "stream",
          "text": [
            "Model: \"sequential\"\n",
            "_________________________________________________________________\n",
            "Layer (type)                 Output Shape              Param #   \n",
            "=================================================================\n",
            "conv2d (Conv2D)              (None, 32, 32, 32)        896       \n",
            "_________________________________________________________________\n",
            "dropout (Dropout)            (None, 32, 32, 32)        0         \n",
            "_________________________________________________________________\n",
            "conv2d_1 (Conv2D)            (None, 32, 32, 32)        9248      \n",
            "_________________________________________________________________\n",
            "max_pooling2d (MaxPooling2D) (None, 16, 16, 32)        0         \n",
            "_________________________________________________________________\n",
            "flatten (Flatten)            (None, 8192)              0         \n",
            "_________________________________________________________________\n",
            "dense (Dense)                (None, 512)               4194816   \n",
            "_________________________________________________________________\n",
            "dropout_1 (Dropout)          (None, 512)               0         \n",
            "_________________________________________________________________\n",
            "dense_1 (Dense)              (None, 10)                5130      \n",
            "=================================================================\n",
            "Total params: 4,210,090\n",
            "Trainable params: 4,210,090\n",
            "Non-trainable params: 0\n",
            "_________________________________________________________________\n"
          ],
          "name": "stdout"
        }
      ]
    },
    {
      "cell_type": "code",
      "metadata": {
        "id": "xAN6aRGZj0gH",
        "colab_type": "code",
        "colab": {}
      },
      "source": [
        "epochs = 5\n",
        "lrate = 0.01\n",
        "decay = lrate/epochs\n",
        "sgd = keras.optimizers.SGD(lr=lrate, momentum=0.9, decay=decay, nesterov=False)\n",
        "model.compile(loss='categorical_crossentropy', optimizer=sgd, metrics=['accuracy']) # Compiling model"
      ],
      "execution_count": null,
      "outputs": []
    },
    {
      "cell_type": "code",
      "metadata": {
        "id": "NCyvKkrsj1jL",
        "colab_type": "code",
        "colab": {
          "base_uri": "https://localhost:8080/",
          "height": 255
        },
        "outputId": "4bce8a3d-5aaf-4aeb-e89d-c4abdb72129e"
      },
      "source": [
        "historynew = model.fit(x_train2, y_train, validation_data=(x_test2, y_test), epochs=epochs, batch_size=32) # Fitting the model"
      ],
      "execution_count": null,
      "outputs": [
        {
          "output_type": "stream",
          "text": [
            "Epoch 1/50\n",
            "1563/1563 [==============================] - 230s 147ms/step - loss: 1.8848 - accuracy: 0.3159 - val_loss: 1.7069 - val_accuracy: 0.3874\n",
            "Epoch 2/50\n",
            "1563/1563 [==============================] - 226s 144ms/step - loss: 1.6882 - accuracy: 0.3916 - val_loss: 1.6322 - val_accuracy: 0.4180\n",
            "Epoch 3/50\n",
            "1563/1563 [==============================] - 240s 153ms/step - loss: 1.6218 - accuracy: 0.4178 - val_loss: 1.5642 - val_accuracy: 0.4492\n",
            "Epoch 4/50\n",
            "1563/1563 [==============================] - 243s 155ms/step - loss: 1.5728 - accuracy: 0.4368 - val_loss: 1.5217 - val_accuracy: 0.4533\n",
            "Epoch 5/50\n",
            "1563/1563 [==============================] - 242s 155ms/step - loss: 1.5337 - accuracy: 0.4529 - val_loss: 1.5124 - val_accuracy: 0.4628\n",
            "Epoch 6/50\n",
            "1563/1563 [==============================] - 239s 153ms/step - loss: 1.5017 - accuracy: 0.4638 - val_loss: 1.4856 - val_accuracy: 0.4719\n",
            "Epoch 7/50\n",
            "1563/1563 [==============================] - 225s 144ms/step - loss: 1.4730 - accuracy: 0.4724 - val_loss: 1.4784 - val_accuracy: 0.4719\n",
            "Epoch 8/50\n",
            "1563/1563 [==============================] - 230s 147ms/step - loss: 1.4490 - accuracy: 0.4824 - val_loss: 1.4619 - val_accuracy: 0.4837\n",
            "Epoch 9/50\n",
            "1563/1563 [==============================] - 243s 156ms/step - loss: 1.4245 - accuracy: 0.4905 - val_loss: 1.4617 - val_accuracy: 0.4782\n",
            "Epoch 10/50\n",
            "1563/1563 [==============================] - 244s 156ms/step - loss: 1.3980 - accuracy: 0.4991 - val_loss: 1.4562 - val_accuracy: 0.4846\n",
            "Epoch 11/50\n",
            "1563/1563 [==============================] - 237s 152ms/step - loss: 1.3784 - accuracy: 0.5090 - val_loss: 1.4607 - val_accuracy: 0.4875\n",
            "Epoch 12/50\n",
            "1563/1563 [==============================] - 231s 148ms/step - loss: 1.3592 - accuracy: 0.5143 - val_loss: 1.4393 - val_accuracy: 0.4924\n",
            "Epoch 13/50\n",
            "1563/1563 [==============================] - 239s 153ms/step - loss: 1.3397 - accuracy: 0.5210 - val_loss: 1.4413 - val_accuracy: 0.4949\n",
            "Epoch 14/50\n",
            "1563/1563 [==============================] - 238s 152ms/step - loss: 1.3235 - accuracy: 0.5275 - val_loss: 1.4267 - val_accuracy: 0.4970\n",
            "Epoch 15/50\n",
            "1563/1563 [==============================] - 244s 156ms/step - loss: 1.3034 - accuracy: 0.5341 - val_loss: 1.4324 - val_accuracy: 0.4976\n",
            "Epoch 16/50\n",
            "1563/1563 [==============================] - 230s 147ms/step - loss: 1.2838 - accuracy: 0.5394 - val_loss: 1.4290 - val_accuracy: 0.5027\n",
            "Epoch 17/50\n",
            "1563/1563 [==============================] - 241s 154ms/step - loss: 1.2636 - accuracy: 0.5474 - val_loss: 1.4347 - val_accuracy: 0.5033\n",
            "Epoch 18/50\n",
            "1563/1563 [==============================] - 237s 152ms/step - loss: 1.2517 - accuracy: 0.5529 - val_loss: 1.4333 - val_accuracy: 0.5060\n",
            "Epoch 19/50\n",
            "1563/1563 [==============================] - ETA: 0s - loss: 1.2366 - accuracy: 0.5598"
          ],
          "name": "stdout"
        }
      ]
    },
    {
      "cell_type": "code",
      "metadata": {
        "id": "SH-w9kd5j4yP",
        "colab_type": "code",
        "colab": {
          "base_uri": "https://localhost:8080/",
          "height": 34
        },
        "outputId": "c2beae76-bf38-4bf4-c974-b26f68e0d143"
      },
      "source": [
        "# Accuracy score\n",
        "scores = model.evaluate(x_test2, y_test, verbose=0)\n",
        "print(\"Accuracy: %.2f%%\" % (scores[1]*100))"
      ],
      "execution_count": null,
      "outputs": [
        {
          "output_type": "stream",
          "text": [
            "Accuracy: 18.51%\n"
          ],
          "name": "stdout"
        }
      ]
    },
    {
      "cell_type": "markdown",
      "metadata": {
        "id": "piTkTCsEffjk",
        "colab_type": "text"
      },
      "source": [
        "**a.\tRepeat the same thing with PCA (apply PCA on the dataset and then pass the result to CNN or LSTM or three layers model)**"
      ]
    },
    {
      "cell_type": "markdown",
      "metadata": {
        "id": "8CaN2cqBhhLr",
        "colab_type": "text"
      },
      "source": [
        "**PCA+CNN**"
      ]
    },
    {
      "cell_type": "code",
      "metadata": {
        "id": "e-Bvsh2qNzQC",
        "colab_type": "code",
        "colab": {
          "base_uri": "https://localhost:8080/",
          "height": 51
        },
        "outputId": "8b4625dd-410d-4236-aef0-57f55a0fcb78"
      },
      "source": [
        "x_train = x_train.reshape(-1, 3072)\n",
        "x_test = x_test.reshape(-1, 3072)\n",
        "print(x_train.shape)\n",
        "print(x_test.shape)"
      ],
      "execution_count": null,
      "outputs": [
        {
          "output_type": "stream",
          "text": [
            "(50000, 3072)\n",
            "(10000, 3072)\n"
          ],
          "name": "stdout"
        }
      ]
    },
    {
      "cell_type": "code",
      "metadata": {
        "id": "C--CqUXrQiU5",
        "colab_type": "code",
        "colab": {}
      },
      "source": [
        "# Apply standard scaler to data\n",
        "standardscaler = StandardScaler()"
      ],
      "execution_count": null,
      "outputs": []
    },
    {
      "cell_type": "code",
      "metadata": {
        "id": "tLGwkoS6QqfC",
        "colab_type": "code",
        "colab": {
          "base_uri": "https://localhost:8080/",
          "height": 34
        },
        "outputId": "9c1b8fc0-7884-4dd9-e6d6-9de119b702f6"
      },
      "source": [
        "#PCA\n",
        "\n",
        "pca = PCA()\n",
        "pca.fit(x_train)\n",
        "pca.n_components_\n",
        "pca.explained_variance_\n",
        "pca.explained_variance_.shape"
      ],
      "execution_count": null,
      "outputs": [
        {
          "output_type": "execute_result",
          "data": {
            "text/plain": [
              "(3072,)"
            ]
          },
          "metadata": {
            "tags": []
          },
          "execution_count": 23
        }
      ]
    },
    {
      "cell_type": "code",
      "metadata": {
        "id": "XQa5zDlrQ_rT",
        "colab_type": "code",
        "colab": {}
      },
      "source": [
        "x_train_pca = pca.transform(x_train)\n",
        "x_test_pca = pca.transform(x_test)"
      ],
      "execution_count": null,
      "outputs": []
    },
    {
      "cell_type": "code",
      "metadata": {
        "id": "KUcnBnUZRAnz",
        "colab_type": "code",
        "colab": {
          "base_uri": "https://localhost:8080/",
          "height": 51
        },
        "outputId": "76813648-392e-4dca-e77f-7c5dee54c952"
      },
      "source": [
        "x_train_pca = x_train_pca.reshape(-1, 32,32,3)\n",
        "x_test_pca = x_test_pca.reshape(-1, 32,32,3)\n",
        "print(x_train_pca.shape)\n",
        "print(x_test_pca.shape)"
      ],
      "execution_count": null,
      "outputs": [
        {
          "output_type": "stream",
          "text": [
            "(50000, 32, 32, 3)\n",
            "(10000, 32, 32, 3)\n"
          ],
          "name": "stdout"
        }
      ]
    },
    {
      "cell_type": "code",
      "metadata": {
        "id": "7PO2W7-oRJ-6",
        "colab_type": "code",
        "colab": {
          "base_uri": "https://localhost:8080/",
          "height": 425
        },
        "outputId": "b4dc6c85-cee5-45f9-9800-0cc3ca3af49d"
      },
      "source": [
        "model1 = models.Sequential() #Sequential Neural Network\n",
        "model1.add(layers.Conv2D(32, (3, 3), padding='same', activation='relu', input_shape=(32,32,3), kernel_constraint=maxnorm(3))) #2D convolutinal model\n",
        "model1.add(layers.Dropout(0.2)) #Dropout 20%\n",
        "model1.add(layers.Conv2D(32, (3, 3), activation='relu', padding='same', kernel_constraint=maxnorm(3)))\n",
        "model1.add(layers.MaxPooling2D(pool_size=(2, 2)))\n",
        "model1.add(layers.Flatten())\n",
        "model1.add(layers.Dense(512, activation='relu', kernel_constraint=maxnorm(3)))\n",
        "model1.add(layers.Dropout(0.5)) #Dropout 50%\n",
        "model1.add(layers.Dense(num_classes, activation='softmax'))  #10 Output Neurons\n",
        "model1.summary()"
      ],
      "execution_count": null,
      "outputs": [
        {
          "output_type": "stream",
          "text": [
            "Model: \"sequential_1\"\n",
            "_________________________________________________________________\n",
            "Layer (type)                 Output Shape              Param #   \n",
            "=================================================================\n",
            "conv2d_2 (Conv2D)            (None, 32, 32, 32)        896       \n",
            "_________________________________________________________________\n",
            "dropout_2 (Dropout)          (None, 32, 32, 32)        0         \n",
            "_________________________________________________________________\n",
            "conv2d_3 (Conv2D)            (None, 32, 32, 32)        9248      \n",
            "_________________________________________________________________\n",
            "max_pooling2d_1 (MaxPooling2 (None, 16, 16, 32)        0         \n",
            "_________________________________________________________________\n",
            "flatten_1 (Flatten)          (None, 8192)              0         \n",
            "_________________________________________________________________\n",
            "dense_2 (Dense)              (None, 512)               4194816   \n",
            "_________________________________________________________________\n",
            "dropout_3 (Dropout)          (None, 512)               0         \n",
            "_________________________________________________________________\n",
            "dense_3 (Dense)              (None, 10)                5130      \n",
            "=================================================================\n",
            "Total params: 4,210,090\n",
            "Trainable params: 4,210,090\n",
            "Non-trainable params: 0\n",
            "_________________________________________________________________\n"
          ],
          "name": "stdout"
        }
      ]
    },
    {
      "cell_type": "code",
      "metadata": {
        "id": "tJSmbAxLRQoq",
        "colab_type": "code",
        "colab": {}
      },
      "source": [
        "epochs = 3\n",
        "lrate = 0.01\n",
        "decay = lrate/epochs\n",
        "sgd = keras.optimizers.SGD(lr=lrate, momentum=0.9, decay=decay, nesterov=False)\n",
        "model1.compile(loss='categorical_crossentropy', optimizer=sgd, metrics=['accuracy']) #Compiling Model"
      ],
      "execution_count": null,
      "outputs": []
    },
    {
      "cell_type": "code",
      "metadata": {
        "id": "7ISUvAmXRVGA",
        "colab_type": "code",
        "colab": {
          "base_uri": "https://localhost:8080/",
          "height": 119
        },
        "outputId": "40f43a67-6601-426b-9c24-746f1cf41783"
      },
      "source": [
        "history1 = model1.fit(x_train_pca, y_train, validation_data=(x_test_pca, y_test), epochs=epochs, batch_size=32) #Fitting The model"
      ],
      "execution_count": null,
      "outputs": [
        {
          "output_type": "stream",
          "text": [
            "Epoch 1/3\n",
            "1563/1563 [==============================] - 231s 148ms/step - loss: 2.1792 - accuracy: 0.1759 - val_loss: 2.1620 - val_accuracy: 0.1745\n",
            "Epoch 2/3\n",
            "1563/1563 [==============================] - 233s 149ms/step - loss: 2.1062 - accuracy: 0.2060 - val_loss: 2.1936 - val_accuracy: 0.1908\n",
            "Epoch 3/3\n",
            "1563/1563 [==============================] - 231s 148ms/step - loss: 2.0708 - accuracy: 0.2228 - val_loss: 2.2495 - val_accuracy: 0.1950\n"
          ],
          "name": "stdout"
        }
      ]
    },
    {
      "cell_type": "code",
      "metadata": {
        "id": "nngrTOm8Rkxd",
        "colab_type": "code",
        "colab": {
          "base_uri": "https://localhost:8080/",
          "height": 34
        },
        "outputId": "dd0058c8-af4e-4450-fdf4-e7a85b30b67b"
      },
      "source": [
        "# Accuracy score\n",
        "scores = model1.evaluate(x_test_pca, y_test, verbose=0)\n",
        "print(\"Accuracy: %.2f%%\" % (scores[1]*100))"
      ],
      "execution_count": null,
      "outputs": [
        {
          "output_type": "stream",
          "text": [
            "Accuracy: 19.50%\n"
          ],
          "name": "stdout"
        }
      ]
    },
    {
      "cell_type": "markdown",
      "metadata": {
        "id": "6ZodhNYbfQt5",
        "colab_type": "text"
      },
      "source": [
        "**b.\tCompare the result of both approach**"
      ]
    },
    {
      "cell_type": "code",
      "metadata": {
        "id": "9A4q6Y8re7bI",
        "colab_type": "code",
        "colab": {
          "base_uri": "https://localhost:8080/",
          "height": 51
        },
        "outputId": "dd718b69-3e68-4204-973e-1ae521c5b9a2"
      },
      "source": [
        "scores = model.evaluate(x_test2, y_test, verbose=0)\n",
        "print(\"Accuracy for AutoEncoding + CNN: %.2f%%\" % (scores[1]*100))\n",
        "\n",
        "scores = model1.evaluate(x_test_pca, y_test, verbose=0)\n",
        "print(\"Accuracy for PCA + CNN: %.2f%%\" % (scores[1]*100))"
      ],
      "execution_count": null,
      "outputs": [
        {
          "output_type": "stream",
          "text": [
            "Accuracy for AutoEncoding + CNN: 18.51%\n",
            "Accuracy for PCA + CNN: 19.50%\n"
          ],
          "name": "stdout"
        }
      ]
    }
  ]
}